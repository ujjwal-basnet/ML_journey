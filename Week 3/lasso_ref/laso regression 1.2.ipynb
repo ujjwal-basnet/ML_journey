{
 "cells": [
  {
   "cell_type": "code",
   "execution_count": 95,
   "id": "7333b157-d10a-4217-b9c0-30e57e47188c",
   "metadata": {
    "tags": []
   },
   "outputs": [],
   "source": [
    "import pandas as pd \n",
    "import numpy as np\n",
    "from matplotlib import pyplot as plt \n"
   ]
  },
  {
   "cell_type": "code",
   "execution_count": 96,
   "id": "33885228-65e0-46be-8744-f5a8b11afdd4",
   "metadata": {
    "tags": []
   },
   "outputs": [],
   "source": [
    "#importing data sets \n",
    "from sklearn.datasets import load_diabetes \n"
   ]
  },
  {
   "cell_type": "code",
   "execution_count": 97,
   "id": "2fa10f6d-0afc-45dc-ba0d-685962b8e75d",
   "metadata": {
    "tags": []
   },
   "outputs": [],
   "source": [
    "#loading daibetes data sets \n",
    "data_sets = load_diabetes()"
   ]
  },
  {
   "cell_type": "code",
   "execution_count": 98,
   "id": "eaca4a59-20cc-4b45-8148-b6d6f804ce5c",
   "metadata": {
    "tags": []
   },
   "outputs": [
    {
     "data": {
      "text/plain": [
       "['DESCR',\n",
       " 'data',\n",
       " 'data_filename',\n",
       " 'data_module',\n",
       " 'feature_names',\n",
       " 'frame',\n",
       " 'target',\n",
       " 'target_filename']"
      ]
     },
     "execution_count": 98,
     "metadata": {},
     "output_type": "execute_result"
    }
   ],
   "source": [
    "dir(data_sets)"
   ]
  },
  {
   "cell_type": "code",
   "execution_count": 106,
   "id": "256d20a3-5e0b-47ef-ab32-b24e78814afd",
   "metadata": {
    "tags": []
   },
   "outputs": [
    {
     "data": {
      "text/html": [
       "<div>\n",
       "<style scoped>\n",
       "    .dataframe tbody tr th:only-of-type {\n",
       "        vertical-align: middle;\n",
       "    }\n",
       "\n",
       "    .dataframe tbody tr th {\n",
       "        vertical-align: top;\n",
       "    }\n",
       "\n",
       "    .dataframe thead th {\n",
       "        text-align: right;\n",
       "    }\n",
       "</style>\n",
       "<table border=\"1\" class=\"dataframe\">\n",
       "  <thead>\n",
       "    <tr style=\"text-align: right;\">\n",
       "      <th></th>\n",
       "      <th>age</th>\n",
       "      <th>sex</th>\n",
       "      <th>bmi</th>\n",
       "      <th>bp</th>\n",
       "      <th>s1</th>\n",
       "      <th>s2</th>\n",
       "      <th>s3</th>\n",
       "      <th>s4</th>\n",
       "      <th>s5</th>\n",
       "      <th>s6</th>\n",
       "    </tr>\n",
       "  </thead>\n",
       "  <tbody>\n",
       "    <tr>\n",
       "      <th>228</th>\n",
       "      <td>-0.052738</td>\n",
       "      <td>-0.044642</td>\n",
       "      <td>-0.012673</td>\n",
       "      <td>-0.060756</td>\n",
       "      <td>-0.000193</td>\n",
       "      <td>0.008081</td>\n",
       "      <td>0.011824</td>\n",
       "      <td>-0.002592</td>\n",
       "      <td>-0.027129</td>\n",
       "      <td>-0.050783</td>\n",
       "    </tr>\n",
       "    <tr>\n",
       "      <th>74</th>\n",
       "      <td>0.012648</td>\n",
       "      <td>0.050680</td>\n",
       "      <td>0.002417</td>\n",
       "      <td>0.056301</td>\n",
       "      <td>0.027326</td>\n",
       "      <td>0.017162</td>\n",
       "      <td>0.041277</td>\n",
       "      <td>-0.039493</td>\n",
       "      <td>0.003709</td>\n",
       "      <td>0.073480</td>\n",
       "    </tr>\n",
       "  </tbody>\n",
       "</table>\n",
       "</div>"
      ],
      "text/plain": [
       "          age       sex       bmi        bp        s1        s2        s3  \\\n",
       "228 -0.052738 -0.044642 -0.012673 -0.060756 -0.000193  0.008081  0.011824   \n",
       "74   0.012648  0.050680  0.002417  0.056301  0.027326  0.017162  0.041277   \n",
       "\n",
       "           s4        s5        s6  \n",
       "228 -0.002592 -0.027129 -0.050783  \n",
       "74  -0.039493  0.003709  0.073480  "
      ]
     },
     "execution_count": 106,
     "metadata": {},
     "output_type": "execute_result"
    }
   ],
   "source": [
    "#converting into pandas dataframe \n",
    "df = pd.DataFrame(data = data_sets.data  , columns = data_sets.feature_names  )\n",
    "df.sample(2)"
   ]
  },
  {
   "cell_type": "code",
   "execution_count": 107,
   "id": "21cbb841-95dd-4a94-bb6b-845aa83e1b10",
   "metadata": {
    "tags": []
   },
   "outputs": [],
   "source": [
    "#adding traget variables \n",
    "df['Target'] = data_sets.target"
   ]
  },
  {
   "cell_type": "code",
   "execution_count": 108,
   "id": "0c93ee19-ba11-4584-a096-6ca6663151c0",
   "metadata": {
    "tags": []
   },
   "outputs": [
    {
     "name": "stdout",
     "output_type": "stream",
     "text": [
      "<class 'pandas.core.series.Series'>\n",
      "RangeIndex: 442 entries, 0 to 441\n",
      "Series name: Target\n",
      "Non-Null Count  Dtype  \n",
      "--------------  -----  \n",
      "442 non-null    float64\n",
      "dtypes: float64(1)\n",
      "memory usage: 3.6 KB\n"
     ]
    }
   ],
   "source": [
    "df['Target'].info()"
   ]
  },
  {
   "cell_type": "code",
   "execution_count": 109,
   "id": "cd62f713-b9c7-42bd-81fd-d63186010898",
   "metadata": {
    "tags": []
   },
   "outputs": [],
   "source": [
    "df['Target'] = df['Target'].astype(int)"
   ]
  },
  {
   "cell_type": "code",
   "execution_count": 110,
   "id": "42266fcd-a281-46cd-88ec-ff2b297db686",
   "metadata": {
    "tags": []
   },
   "outputs": [
    {
     "name": "stdout",
     "output_type": "stream",
     "text": [
      "<class 'pandas.core.series.Series'>\n",
      "RangeIndex: 442 entries, 0 to 441\n",
      "Series name: Target\n",
      "Non-Null Count  Dtype\n",
      "--------------  -----\n",
      "442 non-null    int32\n",
      "dtypes: int32(1)\n",
      "memory usage: 1.9 KB\n"
     ]
    }
   ],
   "source": [
    "df['Target'].info()"
   ]
  },
  {
   "cell_type": "markdown",
   "id": "b5de39c8-841f-4533-879c-a2c44adc3480",
   "metadata": {},
   "source": [
    "Applying linear regressions "
   ]
  },
  {
   "cell_type": "code",
   "execution_count": 111,
   "id": "4e05d90f-194d-47a9-b371-1c158646186c",
   "metadata": {
    "tags": []
   },
   "outputs": [],
   "source": [
    "from sklearn.model_selection import train_test_split"
   ]
  },
  {
   "cell_type": "code",
   "execution_count": 112,
   "id": "4b9bb4b3-3d1e-4a50-9ee8-eb48eda6023e",
   "metadata": {
    "tags": []
   },
   "outputs": [
    {
     "data": {
      "text/html": [
       "<div>\n",
       "<style scoped>\n",
       "    .dataframe tbody tr th:only-of-type {\n",
       "        vertical-align: middle;\n",
       "    }\n",
       "\n",
       "    .dataframe tbody tr th {\n",
       "        vertical-align: top;\n",
       "    }\n",
       "\n",
       "    .dataframe thead th {\n",
       "        text-align: right;\n",
       "    }\n",
       "</style>\n",
       "<table border=\"1\" class=\"dataframe\">\n",
       "  <thead>\n",
       "    <tr style=\"text-align: right;\">\n",
       "      <th></th>\n",
       "      <th>age</th>\n",
       "      <th>sex</th>\n",
       "      <th>bmi</th>\n",
       "      <th>bp</th>\n",
       "      <th>s1</th>\n",
       "      <th>s2</th>\n",
       "      <th>s3</th>\n",
       "      <th>s4</th>\n",
       "      <th>s5</th>\n",
       "      <th>s6</th>\n",
       "      <th>Target</th>\n",
       "    </tr>\n",
       "  </thead>\n",
       "  <tbody>\n",
       "    <tr>\n",
       "      <th>0</th>\n",
       "      <td>0.038076</td>\n",
       "      <td>0.050680</td>\n",
       "      <td>0.061696</td>\n",
       "      <td>0.021872</td>\n",
       "      <td>-0.044223</td>\n",
       "      <td>-0.034821</td>\n",
       "      <td>-0.043401</td>\n",
       "      <td>-0.002592</td>\n",
       "      <td>0.019907</td>\n",
       "      <td>-0.017646</td>\n",
       "      <td>151</td>\n",
       "    </tr>\n",
       "    <tr>\n",
       "      <th>1</th>\n",
       "      <td>-0.001882</td>\n",
       "      <td>-0.044642</td>\n",
       "      <td>-0.051474</td>\n",
       "      <td>-0.026328</td>\n",
       "      <td>-0.008449</td>\n",
       "      <td>-0.019163</td>\n",
       "      <td>0.074412</td>\n",
       "      <td>-0.039493</td>\n",
       "      <td>-0.068332</td>\n",
       "      <td>-0.092204</td>\n",
       "      <td>75</td>\n",
       "    </tr>\n",
       "    <tr>\n",
       "      <th>2</th>\n",
       "      <td>0.085299</td>\n",
       "      <td>0.050680</td>\n",
       "      <td>0.044451</td>\n",
       "      <td>-0.005670</td>\n",
       "      <td>-0.045599</td>\n",
       "      <td>-0.034194</td>\n",
       "      <td>-0.032356</td>\n",
       "      <td>-0.002592</td>\n",
       "      <td>0.002861</td>\n",
       "      <td>-0.025930</td>\n",
       "      <td>141</td>\n",
       "    </tr>\n",
       "    <tr>\n",
       "      <th>3</th>\n",
       "      <td>-0.089063</td>\n",
       "      <td>-0.044642</td>\n",
       "      <td>-0.011595</td>\n",
       "      <td>-0.036656</td>\n",
       "      <td>0.012191</td>\n",
       "      <td>0.024991</td>\n",
       "      <td>-0.036038</td>\n",
       "      <td>0.034309</td>\n",
       "      <td>0.022688</td>\n",
       "      <td>-0.009362</td>\n",
       "      <td>206</td>\n",
       "    </tr>\n",
       "    <tr>\n",
       "      <th>4</th>\n",
       "      <td>0.005383</td>\n",
       "      <td>-0.044642</td>\n",
       "      <td>-0.036385</td>\n",
       "      <td>0.021872</td>\n",
       "      <td>0.003935</td>\n",
       "      <td>0.015596</td>\n",
       "      <td>0.008142</td>\n",
       "      <td>-0.002592</td>\n",
       "      <td>-0.031988</td>\n",
       "      <td>-0.046641</td>\n",
       "      <td>135</td>\n",
       "    </tr>\n",
       "  </tbody>\n",
       "</table>\n",
       "</div>"
      ],
      "text/plain": [
       "        age       sex       bmi        bp        s1        s2        s3  \\\n",
       "0  0.038076  0.050680  0.061696  0.021872 -0.044223 -0.034821 -0.043401   \n",
       "1 -0.001882 -0.044642 -0.051474 -0.026328 -0.008449 -0.019163  0.074412   \n",
       "2  0.085299  0.050680  0.044451 -0.005670 -0.045599 -0.034194 -0.032356   \n",
       "3 -0.089063 -0.044642 -0.011595 -0.036656  0.012191  0.024991 -0.036038   \n",
       "4  0.005383 -0.044642 -0.036385  0.021872  0.003935  0.015596  0.008142   \n",
       "\n",
       "         s4        s5        s6  Target  \n",
       "0 -0.002592  0.019907 -0.017646     151  \n",
       "1 -0.039493 -0.068332 -0.092204      75  \n",
       "2 -0.002592  0.002861 -0.025930     141  \n",
       "3  0.034309  0.022688 -0.009362     206  \n",
       "4 -0.002592 -0.031988 -0.046641     135  "
      ]
     },
     "execution_count": 112,
     "metadata": {},
     "output_type": "execute_result"
    }
   ],
   "source": [
    "df.head()"
   ]
  },
  {
   "cell_type": "code",
   "execution_count": 113,
   "id": "67145c72-edca-4586-96e8-237d0cdbb996",
   "metadata": {
    "tags": []
   },
   "outputs": [],
   "source": [
    "x = df.iloc[: , :-1]\n",
    "y = df.iloc[: , -1 ] "
   ]
  },
  {
   "cell_type": "code",
   "execution_count": 114,
   "id": "15d0a12f-6880-4a0c-ae09-880dd1d91006",
   "metadata": {
    "tags": []
   },
   "outputs": [
    {
     "data": {
      "text/plain": [
       "((442, 10), (442,))"
      ]
     },
     "execution_count": 114,
     "metadata": {},
     "output_type": "execute_result"
    }
   ],
   "source": [
    "x.shape , y.shape"
   ]
  },
  {
   "cell_type": "code",
   "execution_count": 115,
   "id": "f228e86b-ff28-4676-ac1d-7cd343d6a8b6",
   "metadata": {
    "tags": []
   },
   "outputs": [],
   "source": [
    "#now , \n",
    "y = np.asarray(y).reshape(-1 , 1 )"
   ]
  },
  {
   "cell_type": "code",
   "execution_count": 116,
   "id": "0c2d43e3-c209-4047-a28a-1c923831710f",
   "metadata": {
    "tags": []
   },
   "outputs": [
    {
     "data": {
      "text/plain": [
       "(442, 1)"
      ]
     },
     "execution_count": 116,
     "metadata": {},
     "output_type": "execute_result"
    }
   ],
   "source": [
    "y.shape #good "
   ]
  },
  {
   "cell_type": "markdown",
   "id": "b8053c70-c440-49cc-bc8c-ab210e3594c8",
   "metadata": {},
   "source": [
    "## Doing train test split "
   ]
  },
  {
   "cell_type": "code",
   "execution_count": 117,
   "id": "80faf9d9-04fd-402c-85c1-6bf28f6ec33a",
   "metadata": {
    "tags": []
   },
   "outputs": [],
   "source": [
    "xtrain , xtest , ytrain , ytest = train_test_split(x , y , test_size = 0.2 , random_state = 20 ) "
   ]
  },
  {
   "cell_type": "markdown",
   "id": "50a7a879-60cf-4460-9000-7a10fb002f01",
   "metadata": {
    "tags": []
   },
   "source": [
    "# Lasso regression "
   ]
  },
  {
   "cell_type": "code",
   "execution_count": 118,
   "id": "a9c3c5ba-be10-4be1-823e-eb3ba78207de",
   "metadata": {
    "tags": []
   },
   "outputs": [],
   "source": [
    "\n",
    "from sklearn.linear_model import Lasso \n",
    "from sklearn.metrics import r2_score"
   ]
  },
  {
   "cell_type": "code",
   "execution_count": 119,
   "id": "dbe24797-5f0f-454e-91de-1c296ff1a48f",
   "metadata": {
    "tags": []
   },
   "outputs": [],
   "source": [
    "alpha = [ 0 , 0.1 , 1 , 10 ] \n",
    "coef = []\n",
    "r2_scores = [] "
   ]
  },
  {
   "cell_type": "code",
   "execution_count": 120,
   "id": "e9d29a1a-bc5a-4826-b08d-b0d28cffe003",
   "metadata": {
    "tags": []
   },
   "outputs": [
    {
     "name": "stderr",
     "output_type": "stream",
     "text": [
      "C:\\Users\\UJJWAL\\AppData\\Local\\Temp\\ipykernel_12648\\3317091775.py:3: UserWarning: With alpha=0, this algorithm does not converge well. You are advised to use the LinearRegression estimator\n",
      "  reg_lasso.fit( xtrain , ytrain)\n",
      "D:\\software\\python\\Lib\\site-packages\\sklearn\\linear_model\\_coordinate_descent.py:631: UserWarning: Coordinate descent with no regularization may lead to unexpected results and is discouraged.\n",
      "  model = cd_fast.enet_coordinate_descent(\n",
      "D:\\software\\python\\Lib\\site-packages\\sklearn\\linear_model\\_coordinate_descent.py:631: ConvergenceWarning: Objective did not converge. You might want to increase the number of iterations, check the scale of the features or consider increasing regularisation. Duality gap: 4.813e+05, tolerance: 2.080e+02 Linear regression models with null weight for the l1 regularization term are more efficiently fitted using one of the solvers implemented in sklearn.linear_model.Ridge/RidgeCV instead.\n",
      "  model = cd_fast.enet_coordinate_descent(\n"
     ]
    }
   ],
   "source": [
    "for i in alpha:\n",
    "    reg_lasso = Lasso(alpha = i)\n",
    "    reg_lasso.fit( xtrain , ytrain)\n",
    "    coef.append(reg_lasso.coef_.tolist()) \n",
    "    y_pred = reg_lasso.predict(xtest) \n",
    "    r2_scores.append(r2_score(y_pred , ytest))    "
   ]
  },
  {
   "cell_type": "code",
   "execution_count": 121,
   "id": "017e136c-556b-448b-ba29-3183a0d75817",
   "metadata": {
    "tags": []
   },
   "outputs": [
    {
     "data": {
      "text/plain": [
       "Text(0.5, 1.0, 'Alpha = 0.1   , r2_score = -7.567468804289098e+30')"
      ]
     },
     "execution_count": 121,
     "metadata": {},
     "output_type": "execute_result"
    },
    {
     "data": {
      "image/png": "[encoded data removed]",
      "text/plain": [
       "<Figure size 1400x900 with 4 Axes>"
      ]
     },
     "metadata": {},
     "output_type": "display_data"
    }
   ],
   "source": [
    "plt.figure(figsize=(14,9))\n",
    "plt.subplot(221)\n",
    "plt.bar(data_sets.feature_names , coef[0])\n",
    "plt.title(f\"Alpha = 0.1   , r2_score = {r2_scores[0]}\")\n",
    "\n",
    "plt.subplot(222)\n",
    "plt.bar(data_sets.feature_names , coef[1])\n",
    "plt.title(f\"Alpha = 0.1   , r2_score = {r2_scores[1]}\")\n",
    "\n",
    "plt.subplot(223)\n",
    "plt.bar(data_sets.feature_names , coef[2])\n",
    "plt.title(f\"Alpha = 0.1   , r2_score = {r2_scores[2]}\")\n",
    "\n",
    "\n",
    "plt.subplot(224)\n",
    "plt.bar(data_sets.feature_names , coef[3])\n",
    "plt.title(f\"Alpha = 0.1   , r2_score = {r2_scores[3]}\")\n",
    "\n",
    "\n",
    "\n"
   ]
  },
  {
   "cell_type": "code",
   "execution_count": 131,
   "id": "33fde73f-02d6-4006-9a17-d402ee6b9bf4",
   "metadata": {
    "tags": []
   },
   "outputs": [
    {
     "data": {
      "text/plain": [
       "(4, 10)"
      ]
     },
     "execution_count": 131,
     "metadata": {},
     "output_type": "execute_result"
    }
   ],
   "source": [
    "features = np.array(coef)\n",
    "features.shape"
   ]
  },
  {
   "cell_type": "markdown",
   "id": "ba696264-3dd3-4285-8546-c18d75279625",
   "metadata": {
    "tags": []
   },
   "source": [
    "Comparing"
   ]
  },
  {
   "cell_type": "code",
   "execution_count": null,
   "id": "3ba39ac0-2184-4dfb-ba1e-5502cdb9311b",
   "metadata": {
    "tags": []
   },
   "outputs": [],
   "source": []
  },
  {
   "cell_type": "code",
   "execution_count": 132,
   "id": "7c0c4ff2-ac7f-44de-b918-86eae05c97f9",
   "metadata": {
    "tags": []
   },
   "outputs": [],
   "source": [
    "new_df = pd.DataFrame(data = features , columns = data_sets.feature_names)"
   ]
  },
  {
   "cell_type": "code",
   "execution_count": 133,
   "id": "a716d5ea-9262-4b53-bdbd-7dee50a6896a",
   "metadata": {
    "tags": []
   },
   "outputs": [],
   "source": [
    "new_df['alphas'] = np.array(alpha)"
   ]
  },
  {
   "cell_type": "code",
   "execution_count": 138,
   "id": "cac157a5-1945-473e-844f-72fc8e9cabc5",
   "metadata": {
    "tags": []
   },
   "outputs": [
    {
     "data": {
      "text/html": [
       "<div>\n",
       "<style scoped>\n",
       "    .dataframe tbody tr th:only-of-type {\n",
       "        vertical-align: middle;\n",
       "    }\n",
       "\n",
       "    .dataframe tbody tr th {\n",
       "        vertical-align: top;\n",
       "    }\n",
       "\n",
       "    .dataframe thead th {\n",
       "        text-align: right;\n",
       "    }\n",
       "</style>\n",
       "<table border=\"1\" class=\"dataframe\">\n",
       "  <thead>\n",
       "    <tr style=\"text-align: right;\">\n",
       "      <th></th>\n",
       "      <th>age</th>\n",
       "      <th>sex</th>\n",
       "      <th>bmi</th>\n",
       "      <th>bp</th>\n",
       "      <th>s1</th>\n",
       "      <th>s2</th>\n",
       "      <th>s3</th>\n",
       "      <th>s4</th>\n",
       "      <th>s5</th>\n",
       "      <th>s6</th>\n",
       "    </tr>\n",
       "    <tr>\n",
       "      <th>alphas</th>\n",
       "      <th></th>\n",
       "      <th></th>\n",
       "      <th></th>\n",
       "      <th></th>\n",
       "      <th></th>\n",
       "      <th></th>\n",
       "      <th></th>\n",
       "      <th></th>\n",
       "      <th></th>\n",
       "      <th></th>\n",
       "    </tr>\n",
       "  </thead>\n",
       "  <tbody>\n",
       "    <tr>\n",
       "      <th>0.0</th>\n",
       "      <td>-40.432055</td>\n",
       "      <td>-255.596944</td>\n",
       "      <td>561.211521</td>\n",
       "      <td>346.660737</td>\n",
       "      <td>-1034.954238</td>\n",
       "      <td>726.216336</td>\n",
       "      <td>167.039600</td>\n",
       "      <td>127.47606</td>\n",
       "      <td>830.266279</td>\n",
       "      <td>51.240135</td>\n",
       "    </tr>\n",
       "    <tr>\n",
       "      <th>0.1</th>\n",
       "      <td>-0.000000</td>\n",
       "      <td>-171.779492</td>\n",
       "      <td>567.362106</td>\n",
       "      <td>292.827292</td>\n",
       "      <td>-35.487089</td>\n",
       "      <td>-0.000000</td>\n",
       "      <td>-212.174787</td>\n",
       "      <td>0.00000</td>\n",
       "      <td>439.936929</td>\n",
       "      <td>11.893382</td>\n",
       "    </tr>\n",
       "    <tr>\n",
       "      <th>1.0</th>\n",
       "      <td>0.000000</td>\n",
       "      <td>-0.000000</td>\n",
       "      <td>417.681214</td>\n",
       "      <td>24.049279</td>\n",
       "      <td>0.000000</td>\n",
       "      <td>0.000000</td>\n",
       "      <td>-0.000000</td>\n",
       "      <td>0.00000</td>\n",
       "      <td>262.272765</td>\n",
       "      <td>0.000000</td>\n",
       "    </tr>\n",
       "    <tr>\n",
       "      <th>10.0</th>\n",
       "      <td>0.000000</td>\n",
       "      <td>0.000000</td>\n",
       "      <td>0.000000</td>\n",
       "      <td>0.000000</td>\n",
       "      <td>0.000000</td>\n",
       "      <td>0.000000</td>\n",
       "      <td>-0.000000</td>\n",
       "      <td>0.00000</td>\n",
       "      <td>0.000000</td>\n",
       "      <td>0.000000</td>\n",
       "    </tr>\n",
       "  </tbody>\n",
       "</table>\n",
       "</div>"
      ],
      "text/plain": [
       "              age         sex         bmi          bp           s1  \\\n",
       "alphas                                                               \n",
       "0.0    -40.432055 -255.596944  561.211521  346.660737 -1034.954238   \n",
       "0.1     -0.000000 -171.779492  567.362106  292.827292   -35.487089   \n",
       "1.0      0.000000   -0.000000  417.681214   24.049279     0.000000   \n",
       "10.0     0.000000    0.000000    0.000000    0.000000     0.000000   \n",
       "\n",
       "                s2          s3         s4          s5         s6  \n",
       "alphas                                                            \n",
       "0.0     726.216336  167.039600  127.47606  830.266279  51.240135  \n",
       "0.1      -0.000000 -212.174787    0.00000  439.936929  11.893382  \n",
       "1.0       0.000000   -0.000000    0.00000  262.272765   0.000000  \n",
       "10.0      0.000000   -0.000000    0.00000    0.000000   0.000000  "
      ]
     },
     "execution_count": 138,
     "metadata": {},
     "output_type": "execute_result"
    }
   ],
   "source": [
    " new_df.set_index('alphas')"
   ]
  },
  {
   "cell_type": "markdown",
   "id": "8aa89542-a0d7-484e-83a1-319bb4b8fc24",
   "metadata": {
    "tags": []
   },
   "source": [
    "## Plotting"
   ]
  },
  {
   "cell_type": "code",
   "execution_count": null,
   "id": "f01220cd-ed4c-4f8a-a151-5b79bc46501d",
   "metadata": {},
   "outputs": [],
   "source": []
  },
  {
   "cell_type": "code",
   "execution_count": 144,
   "id": "c2dd1b83-ee4c-4e59-aa7e-0e968bf9f8d4",
   "metadata": {
    "tags": []
   },
   "outputs": [
    {
     "data": {
      "text/plain": [
       "[<matplotlib.lines.Line2D at 0x23a9f792c10>]"
      ]
     },
     "execution_count": 144,
     "metadata": {},
     "output_type": "execute_result"
    },
    {
     "data": {
      "image/png": "[encoded data removed]",
      "text/plain": [
       "<Figure size 1500x800 with 1 Axes>"
      ]
     },
     "metadata": {},
     "output_type": "display_data"
    }
   ],
   "source": [
    "plt.figure(figsize=(15,8))\n",
    "plt.plot(alpha , np.zeros(len(alpha)) , color = 'red' , linewidth = 10 )"
   ]
  },
  {
   "cell_type": "code",
   "execution_count": 146,
   "id": "dd37f528-50c5-46a2-b10e-83d4966705c0",
   "metadata": {
    "tags": []
   },
   "outputs": [
    {
     "ename": "AttributeError",
     "evalue": "feature",
     "output_type": "error",
     "traceback": [
      "\u001b[1;31m---------------------------------------------------------------------------\u001b[0m",
      "\u001b[1;31mKeyError\u001b[0m                                  Traceback (most recent call last)",
      "File \u001b[1;32mD:\\software\\python\\Lib\\site-packages\\sklearn\\utils\\_bunch.py:35\u001b[0m, in \u001b[0;36mBunch.__getattr__\u001b[1;34m(self, key)\u001b[0m\n\u001b[0;32m     34\u001b[0m \u001b[38;5;28;01mtry\u001b[39;00m:\n\u001b[1;32m---> 35\u001b[0m     \u001b[38;5;28;01mreturn\u001b[39;00m \u001b[38;5;28;43mself\u001b[39;49m\u001b[43m[\u001b[49m\u001b[43mkey\u001b[49m\u001b[43m]\u001b[49m\n\u001b[0;32m     36\u001b[0m \u001b[38;5;28;01mexcept\u001b[39;00m \u001b[38;5;167;01mKeyError\u001b[39;00m:\n",
      "\u001b[1;31mKeyError\u001b[0m: 'feature'",
      "\nDuring handling of the above exception, another exception occurred:\n",
      "\u001b[1;31mAttributeError\u001b[0m                            Traceback (most recent call last)",
      "Cell \u001b[1;32mIn[146], line 4\u001b[0m\n\u001b[0;32m      2\u001b[0m plt\u001b[38;5;241m.\u001b[39mplot(alpha , np\u001b[38;5;241m.\u001b[39mzeros(\u001b[38;5;28mlen\u001b[39m(alpha)) , color \u001b[38;5;241m=\u001b[39m \u001b[38;5;124m'\u001b[39m\u001b[38;5;124mred\u001b[39m\u001b[38;5;124m'\u001b[39m , linewidth \u001b[38;5;241m=\u001b[39m \u001b[38;5;241m8\u001b[39m )\n\u001b[0;32m      3\u001b[0m \u001b[38;5;28;01mfor\u001b[39;00m i \u001b[38;5;129;01min\u001b[39;00m alpha :\n\u001b[1;32m----> 4\u001b[0m     plt\u001b[38;5;241m.\u001b[39mplot( i ,  coef[i] , label \u001b[38;5;241m=\u001b[39m \u001b[43mdata_sets\u001b[49m\u001b[38;5;241;43m.\u001b[39;49m\u001b[43mfeature\u001b[49m\u001b[38;5;241m.\u001b[39mdatas[i])\n",
      "File \u001b[1;32mD:\\software\\python\\Lib\\site-packages\\sklearn\\utils\\_bunch.py:37\u001b[0m, in \u001b[0;36mBunch.__getattr__\u001b[1;34m(self, key)\u001b[0m\n\u001b[0;32m     35\u001b[0m     \u001b[38;5;28;01mreturn\u001b[39;00m \u001b[38;5;28mself\u001b[39m[key]\n\u001b[0;32m     36\u001b[0m \u001b[38;5;28;01mexcept\u001b[39;00m \u001b[38;5;167;01mKeyError\u001b[39;00m:\n\u001b[1;32m---> 37\u001b[0m     \u001b[38;5;28;01mraise\u001b[39;00m \u001b[38;5;167;01mAttributeError\u001b[39;00m(key)\n",
      "\u001b[1;31mAttributeError\u001b[0m: feature"
     ]
    },
    {
     "data": {
      "image/png": "[encoded data removed]",
      "text/plain": [
       "<Figure size 1500x800 with 1 Axes>"
      ]
     },
     "metadata": {},
     "output_type": "display_data"
    }
   ],
   "source": [
    "plt.figure(figsize=(15,8))\n",
    "plt.plot(alpha , np.zeros(len(alpha)) , color = 'red' , linewidth = 8 )\n",
    "for i in alpha :\n",
    "    plt.plot( i ,  coef[i] , label = data_sets.feature.datas[i])"
   ]
  },
  {
   "cell_type": "code",
   "execution_count": null,
   "id": "897e0721-f526-44c2-bb53-c1c3401dd02c",
   "metadata": {},
   "outputs": [],
   "source": []
  },
  {
   "cell_type": "code",
   "execution_count": null,
   "id": "0a155c19-7a25-4137-80a2-9952ed79b4ff",
   "metadata": {},
   "outputs": [],
   "source": []
  }
 ],
 "metadata": {
  "kernelspec": {
   "display_name": "Python 3 (ipykernel)",
   "language": "python",
   "name": "python3"
  },
  "language_info": {
   "codemirror_mode": {
    "name": "ipython",
    "version": 3
   },
   "file_extension": ".py",
   "mimetype": "text/x-python",
   "name": "python",
   "nbconvert_exporter": "python",
   "pygments_lexer": "ipython3",
   "version": "3.11.1"
  }
 },
 "nbformat": 4,
 "nbformat_minor": 5
}
