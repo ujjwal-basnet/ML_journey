{
 "cells": [
  {
   "cell_type": "code",
   "execution_count": 30,
   "metadata": {},
   "outputs": [],
   "source": [
    "# FIRST BY CREATING TOY DATA SETS \n",
    "import numpy as np \n",
    "import pandas as pd \n",
    "import seaborn as sns \n",
    "from matplotlib import pyplot as plt \n"
   ]
  },
  {
   "cell_type": "code",
   "execution_count": 31,
   "metadata": {},
   "outputs": [],
   "source": [
    "#note that we use cofficients less that  1 to overcome overfitting  more discuss on below \n",
    "x_1  = np.linspace(0 , 3, num = 30 )\n",
    "x_2 = np.linspace(3 , 5 , num = 20 )\n",
    "\n",
    "y = 0.23 * x_1**2 + 0.3*x_1 - 0.6\n",
    "#lets create 50 rows of data sets \n",
    "y = np.append(y , [0.23 * x_2**2 + 0.3 * x_2 -  0.6 ])\n",
    "\n"
   ]
  },
  {
   "cell_type": "code",
   "execution_count": 32,
   "metadata": {},
   "outputs": [
    {
     "data": {
      "text/plain": [
       "array([-0.6       , -0.56650416, -0.52808561, -0.48474435, -0.43648038,\n",
       "       -0.3832937 , -0.3251843 , -0.2621522 , -0.19419738, -0.12131986,\n",
       "       -0.04351962,  0.03920333,  0.12684899,  0.21941736,  0.31690844,\n",
       "        0.41932224,  0.52665874,  0.63891795,  0.75609988,  0.87820452,\n",
       "        1.00523187,  1.13718193,  1.2740547 ,  1.41585018,  1.56256837,\n",
       "        1.71420927,  1.87077289,  2.03225922,  2.19866825,  2.37      ,\n",
       "        2.37      ,  2.54939058,  2.73387812,  2.9234626 ,  3.11814404,\n",
       "        3.31792244,  3.52279778,  3.73277008,  3.94783934,  4.16800554,\n",
       "        4.3932687 ,  4.62362881,  4.85908587,  5.09963989,  5.34529086,\n",
       "        5.59603878,  5.85188366,  6.11282548,  6.37886427,  6.65      ])"
      ]
     },
     "execution_count": 32,
     "metadata": {},
     "output_type": "execute_result"
    }
   ],
   "source": [
    "y"
   ]
  },
  {
   "cell_type": "code",
   "execution_count": 33,
   "metadata": {},
   "outputs": [],
   "source": [
    "#now creating sigmoid function \n",
    "def sigmoid(z): \n",
    "    return 1  /  (1 + np.exp(-z))\n",
    "    "
   ]
  },
  {
   "cell_type": "code",
   "execution_count": null,
   "metadata": {},
   "outputs": [],
   "source": []
  },
  {
   "cell_type": "code",
   "execution_count": null,
   "metadata": {},
   "outputs": [],
   "source": []
  },
  {
   "cell_type": "code",
   "execution_count": null,
   "metadata": {},
   "outputs": [],
   "source": []
  },
  {
   "cell_type": "code",
   "execution_count": null,
   "metadata": {},
   "outputs": [],
   "source": []
  },
  {
   "cell_type": "code",
   "execution_count": null,
   "metadata": {},
   "outputs": [],
   "source": []
  },
  {
   "cell_type": "code",
   "execution_count": null,
   "metadata": {},
   "outputs": [],
   "source": []
  },
  {
   "cell_type": "code",
   "execution_count": null,
   "metadata": {},
   "outputs": [],
   "source": []
  },
  {
   "cell_type": "code",
   "execution_count": null,
   "metadata": {},
   "outputs": [],
   "source": []
  },
  {
   "cell_type": "code",
   "execution_count": null,
   "metadata": {},
   "outputs": [],
   "source": []
  },
  {
   "cell_type": "code",
   "execution_count": null,
   "metadata": {},
   "outputs": [],
   "source": []
  },
  {
   "cell_type": "code",
   "execution_count": null,
   "metadata": {},
   "outputs": [],
   "source": []
  }
 ],
 "metadata": {
  "kernelspec": {
   "display_name": "Python 3",
   "language": "python",
   "name": "python3"
  },
  "language_info": {
   "codemirror_mode": {
    "name": "ipython",
    "version": 3
   },
   "file_extension": ".py",
   "mimetype": "text/x-python",
   "name": "python",
   "nbconvert_exporter": "python",
   "pygments_lexer": "ipython3",
   "version": "3.11.1"
  },
  "orig_nbformat": 4
 },
 "nbformat": 4,
 "nbformat_minor": 2
}
