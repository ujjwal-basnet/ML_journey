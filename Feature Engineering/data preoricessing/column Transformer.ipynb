{
 "cells": [
  {
   "attachments": {},
   "cell_type": "markdown",
   "id": "1faf9385",
   "metadata": {},
   "source": [
    "### columsn transformer \n",
    "#### firstly  i didd data preprocessing without columsn and transformer and with transformer your can see the differencce below "
   ]
  },
  {
   "cell_type": "code",
   "execution_count": 1,
   "id": "29bbbc2f-910e-4fe2-915a-b9301eb6deab",
   "metadata": {
    "tags": []
   },
   "outputs": [],
   "source": [
    "import numpy as np \n",
    "import pandas as pd"
   ]
  },
  {
   "cell_type": "code",
   "execution_count": 2,
   "id": "8dfcd3a5-228b-4cd7-91cf-26c7171644ea",
   "metadata": {
    "tags": []
   },
   "outputs": [],
   "source": [
    "from sklearn.impute import SimpleImputer \n",
    "from sklearn.preprocessing import OneHotEncoder \n",
    "from sklearn.preprocessing import LabelEncoder"
   ]
  },
  {
   "cell_type": "code",
   "execution_count": 3,
   "id": "15086b3a-7aca-46f8-ae34-c551cd914bc6",
   "metadata": {
    "tags": []
   },
   "outputs": [],
   "source": [
    "df = pd.read_csv('covid_toy.csv')"
   ]
  },
  {
   "cell_type": "code",
   "execution_count": 4,
   "id": "6eaf2707-c5c9-42fa-a7ce-204a7e8919c1",
   "metadata": {
    "tags": []
   },
   "outputs": [
    {
     "data": {
      "text/html": [
       "<div>\n",
       "<style scoped>\n",
       "    .dataframe tbody tr th:only-of-type {\n",
       "        vertical-align: middle;\n",
       "    }\n",
       "\n",
       "    .dataframe tbody tr th {\n",
       "        vertical-align: top;\n",
       "    }\n",
       "\n",
       "    .dataframe thead th {\n",
       "        text-align: right;\n",
       "    }\n",
       "</style>\n",
       "<table border=\"1\" class=\"dataframe\">\n",
       "  <thead>\n",
       "    <tr style=\"text-align: right;\">\n",
       "      <th></th>\n",
       "      <th>age</th>\n",
       "      <th>gender</th>\n",
       "      <th>fever</th>\n",
       "      <th>cough</th>\n",
       "      <th>city</th>\n",
       "      <th>has_covid</th>\n",
       "    </tr>\n",
       "  </thead>\n",
       "  <tbody>\n",
       "    <tr>\n",
       "      <th>0</th>\n",
       "      <td>60</td>\n",
       "      <td>Male</td>\n",
       "      <td>103.0</td>\n",
       "      <td>Mild</td>\n",
       "      <td>Kolkata</td>\n",
       "      <td>No</td>\n",
       "    </tr>\n",
       "    <tr>\n",
       "      <th>1</th>\n",
       "      <td>27</td>\n",
       "      <td>Male</td>\n",
       "      <td>100.0</td>\n",
       "      <td>Mild</td>\n",
       "      <td>Delhi</td>\n",
       "      <td>Yes</td>\n",
       "    </tr>\n",
       "    <tr>\n",
       "      <th>2</th>\n",
       "      <td>42</td>\n",
       "      <td>Male</td>\n",
       "      <td>101.0</td>\n",
       "      <td>Mild</td>\n",
       "      <td>Delhi</td>\n",
       "      <td>No</td>\n",
       "    </tr>\n",
       "    <tr>\n",
       "      <th>3</th>\n",
       "      <td>31</td>\n",
       "      <td>Female</td>\n",
       "      <td>98.0</td>\n",
       "      <td>Mild</td>\n",
       "      <td>Kolkata</td>\n",
       "      <td>No</td>\n",
       "    </tr>\n",
       "    <tr>\n",
       "      <th>4</th>\n",
       "      <td>65</td>\n",
       "      <td>Female</td>\n",
       "      <td>101.0</td>\n",
       "      <td>Mild</td>\n",
       "      <td>Mumbai</td>\n",
       "      <td>No</td>\n",
       "    </tr>\n",
       "  </tbody>\n",
       "</table>\n",
       "</div>"
      ],
      "text/plain": [
       "   age  gender  fever cough     city has_covid\n",
       "0   60    Male  103.0  Mild  Kolkata        No\n",
       "1   27    Male  100.0  Mild    Delhi       Yes\n",
       "2   42    Male  101.0  Mild    Delhi        No\n",
       "3   31  Female   98.0  Mild  Kolkata        No\n",
       "4   65  Female  101.0  Mild   Mumbai        No"
      ]
     },
     "execution_count": 4,
     "metadata": {},
     "output_type": "execute_result"
    }
   ],
   "source": [
    "df.head(5)"
   ]
  },
  {
   "cell_type": "code",
   "execution_count": 5,
   "id": "c25ee71d-521e-4d83-aba0-5249040b406a",
   "metadata": {
    "tags": []
   },
   "outputs": [],
   "source": [
    "from sklearn.model_selection import train_test_split \n",
    "x_train , x_test , y_train , y_test = train_test_split(df.iloc[: ,0:-1] , df.iloc[: , -1 ]  , test_size = 0.2 ,random_state = 2 )  "
   ]
  },
  {
   "cell_type": "code",
   "execution_count": 6,
   "id": "0e856887-f72d-4f0d-adbb-8264bb2c6ac1",
   "metadata": {
    "tags": []
   },
   "outputs": [
    {
     "data": {
      "text/html": [
       "<div>\n",
       "<style scoped>\n",
       "    .dataframe tbody tr th:only-of-type {\n",
       "        vertical-align: middle;\n",
       "    }\n",
       "\n",
       "    .dataframe tbody tr th {\n",
       "        vertical-align: top;\n",
       "    }\n",
       "\n",
       "    .dataframe thead th {\n",
       "        text-align: right;\n",
       "    }\n",
       "</style>\n",
       "<table border=\"1\" class=\"dataframe\">\n",
       "  <thead>\n",
       "    <tr style=\"text-align: right;\">\n",
       "      <th></th>\n",
       "      <th>age</th>\n",
       "      <th>gender</th>\n",
       "      <th>fever</th>\n",
       "      <th>cough</th>\n",
       "      <th>city</th>\n",
       "    </tr>\n",
       "  </thead>\n",
       "  <tbody>\n",
       "    <tr>\n",
       "      <th>35</th>\n",
       "      <td>82</td>\n",
       "      <td>Female</td>\n",
       "      <td>102.0</td>\n",
       "      <td>Strong</td>\n",
       "      <td>Bangalore</td>\n",
       "    </tr>\n",
       "    <tr>\n",
       "      <th>11</th>\n",
       "      <td>65</td>\n",
       "      <td>Female</td>\n",
       "      <td>98.0</td>\n",
       "      <td>Mild</td>\n",
       "      <td>Mumbai</td>\n",
       "    </tr>\n",
       "    <tr>\n",
       "      <th>84</th>\n",
       "      <td>69</td>\n",
       "      <td>Female</td>\n",
       "      <td>98.0</td>\n",
       "      <td>Strong</td>\n",
       "      <td>Mumbai</td>\n",
       "    </tr>\n",
       "    <tr>\n",
       "      <th>44</th>\n",
       "      <td>20</td>\n",
       "      <td>Male</td>\n",
       "      <td>102.0</td>\n",
       "      <td>Strong</td>\n",
       "      <td>Delhi</td>\n",
       "    </tr>\n",
       "    <tr>\n",
       "      <th>73</th>\n",
       "      <td>34</td>\n",
       "      <td>Male</td>\n",
       "      <td>98.0</td>\n",
       "      <td>Strong</td>\n",
       "      <td>Kolkata</td>\n",
       "    </tr>\n",
       "    <tr>\n",
       "      <th>...</th>\n",
       "      <td>...</td>\n",
       "      <td>...</td>\n",
       "      <td>...</td>\n",
       "      <td>...</td>\n",
       "      <td>...</td>\n",
       "    </tr>\n",
       "    <tr>\n",
       "      <th>43</th>\n",
       "      <td>22</td>\n",
       "      <td>Female</td>\n",
       "      <td>99.0</td>\n",
       "      <td>Mild</td>\n",
       "      <td>Bangalore</td>\n",
       "    </tr>\n",
       "    <tr>\n",
       "      <th>22</th>\n",
       "      <td>71</td>\n",
       "      <td>Female</td>\n",
       "      <td>98.0</td>\n",
       "      <td>Strong</td>\n",
       "      <td>Kolkata</td>\n",
       "    </tr>\n",
       "    <tr>\n",
       "      <th>72</th>\n",
       "      <td>83</td>\n",
       "      <td>Female</td>\n",
       "      <td>101.0</td>\n",
       "      <td>Mild</td>\n",
       "      <td>Kolkata</td>\n",
       "    </tr>\n",
       "    <tr>\n",
       "      <th>15</th>\n",
       "      <td>70</td>\n",
       "      <td>Male</td>\n",
       "      <td>103.0</td>\n",
       "      <td>Strong</td>\n",
       "      <td>Kolkata</td>\n",
       "    </tr>\n",
       "    <tr>\n",
       "      <th>40</th>\n",
       "      <td>49</td>\n",
       "      <td>Female</td>\n",
       "      <td>102.0</td>\n",
       "      <td>Mild</td>\n",
       "      <td>Delhi</td>\n",
       "    </tr>\n",
       "  </tbody>\n",
       "</table>\n",
       "<p>80 rows × 5 columns</p>\n",
       "</div>"
      ],
      "text/plain": [
       "    age  gender  fever   cough       city\n",
       "35   82  Female  102.0  Strong  Bangalore\n",
       "11   65  Female   98.0    Mild     Mumbai\n",
       "84   69  Female   98.0  Strong     Mumbai\n",
       "44   20    Male  102.0  Strong      Delhi\n",
       "73   34    Male   98.0  Strong    Kolkata\n",
       "..  ...     ...    ...     ...        ...\n",
       "43   22  Female   99.0    Mild  Bangalore\n",
       "22   71  Female   98.0  Strong    Kolkata\n",
       "72   83  Female  101.0    Mild    Kolkata\n",
       "15   70    Male  103.0  Strong    Kolkata\n",
       "40   49  Female  102.0    Mild      Delhi\n",
       "\n",
       "[80 rows x 5 columns]"
      ]
     },
     "execution_count": 6,
     "metadata": {},
     "output_type": "execute_result"
    }
   ],
   "source": [
    "x_train"
   ]
  },
  {
   "cell_type": "code",
   "execution_count": null,
   "id": "0f22f382-80b7-4d8b-bb65-eac2f5f3accc",
   "metadata": {
    "tags": []
   },
   "outputs": [],
   "source": []
  },
  {
   "cell_type": "code",
   "execution_count": 7,
   "id": "6b70d5c9-1e75-43fd-b4f8-9279d193dd78",
   "metadata": {
    "tags": []
   },
   "outputs": [],
   "source": [
    "si = SimpleImputer()\n",
    "#adding siple imputer to tain data \n",
    "x_train_fever = si.fit_transform(x_train[['fever']])\n",
    "\n",
    "#adding simple imputer to test data \n",
    "x_test_fever = si.fit_transform(x_test[['fever']])\n"
   ]
  },
  {
   "cell_type": "code",
   "execution_count": 8,
   "id": "5209ab1e-9740-43fd-b71a-75311b28d141",
   "metadata": {
    "tags": []
   },
   "outputs": [
    {
     "name": "stderr",
     "output_type": "stream",
     "text": [
      "D:\\software\\python\\Lib\\site-packages\\sklearn\\preprocessing\\_encoders.py:868: FutureWarning: `sparse` was renamed to `sparse_output` in version 1.2 and will be removed in 1.4. `sparse_output` is ignored unless you leave `sparse` to its default value.\n",
      "  warnings.warn(\n",
      "D:\\software\\python\\Lib\\site-packages\\sklearn\\preprocessing\\_encoders.py:868: FutureWarning: `sparse` was renamed to `sparse_output` in version 1.2 and will be removed in 1.4. `sparse_output` is ignored unless you leave `sparse` to its default value.\n",
      "  warnings.warn(\n"
     ]
    }
   ],
   "source": [
    "ohe = OneHotEncoder(drop = 'first' , dtype = np.int32 , handle_unknown = 'ignore' ,sparse = False )\n",
    "x_train_gender_city = ohe.fit_transform(x_train[['gender' , 'city' ]])\n",
    "\n",
    "#appllying on test data \n",
    "x_test_gender_city = ohe.fit_transform(x_test[['gender' , 'city']])"
   ]
  },
  {
   "cell_type": "code",
   "execution_count": 9,
   "id": "a0db7c58-69c9-4b6a-bf2c-e4d23bd298e9",
   "metadata": {
    "tags": []
   },
   "outputs": [
    {
     "name": "stderr",
     "output_type": "stream",
     "text": [
      "D:\\software\\python\\Lib\\site-packages\\sklearn\\preprocessing\\_label.py:116: DataConversionWarning: A column-vector y was passed when a 1d array was expected. Please change the shape of y to (n_samples, ), for example using ravel().\n",
      "  y = column_or_1d(y, warn=True)\n"
     ]
    }
   ],
   "source": [
    "#Applying label encooder \n",
    "le = LabelEncoder()\n",
    "x_train_cough = le.fit_transform(x_train['cough']).reshape(-1 , 1 )\n",
    "\n",
    "#applying on test data sets\n",
    "\n",
    "x_test_cough = le.fit_transform(x_test[['cough']]).reshape(-1 , 1 )\n",
    "\n",
    "\n"
   ]
  },
  {
   "cell_type": "markdown",
   "id": "6a52f83d-092d-4284-b643-52e7bcf5c24a",
   "metadata": {},
   "source": [
    "## Altrenative of label encoder"
   ]
  },
  {
   "cell_type": "code",
   "execution_count": 10,
   "id": "85a8f1aa-db38-410e-8c79-ef0c994e6d51",
   "metadata": {
    "tags": []
   },
   "outputs": [],
   "source": [
    "#or you can also try \n",
    "mapping_column = {'Strong' : 1 , 'Mild' : 0 }\n",
    "df_test = df.copy()\n",
    "df_test['cough'] = df_test['cough'].map(mapping_column)"
   ]
  },
  {
   "cell_type": "markdown",
   "id": "7d884b0d-27ec-4390-a68d-362c87f1cd53",
   "metadata": {
    "tags": []
   },
   "source": [
    "## Extracting Age"
   ]
  },
  {
   "cell_type": "code",
   "execution_count": 11,
   "id": "ccfd589c-de77-43cd-8d18-d3af1a5f2622",
   "metadata": {
    "tags": []
   },
   "outputs": [
    {
     "data": {
      "text/html": [
       "<div>\n",
       "<style scoped>\n",
       "    .dataframe tbody tr th:only-of-type {\n",
       "        vertical-align: middle;\n",
       "    }\n",
       "\n",
       "    .dataframe tbody tr th {\n",
       "        vertical-align: top;\n",
       "    }\n",
       "\n",
       "    .dataframe thead th {\n",
       "        text-align: right;\n",
       "    }\n",
       "</style>\n",
       "<table border=\"1\" class=\"dataframe\">\n",
       "  <thead>\n",
       "    <tr style=\"text-align: right;\">\n",
       "      <th></th>\n",
       "      <th>age</th>\n",
       "      <th>gender</th>\n",
       "      <th>fever</th>\n",
       "      <th>cough</th>\n",
       "      <th>city</th>\n",
       "    </tr>\n",
       "  </thead>\n",
       "  <tbody>\n",
       "    <tr>\n",
       "      <th>7</th>\n",
       "      <td>20</td>\n",
       "      <td>Female</td>\n",
       "      <td>NaN</td>\n",
       "      <td>Strong</td>\n",
       "      <td>Mumbai</td>\n",
       "    </tr>\n",
       "  </tbody>\n",
       "</table>\n",
       "</div>"
      ],
      "text/plain": [
       "   age  gender  fever   cough    city\n",
       "7   20  Female    NaN  Strong  Mumbai"
      ]
     },
     "execution_count": 11,
     "metadata": {},
     "output_type": "execute_result"
    }
   ],
   "source": [
    "x_train.sample()"
   ]
  },
  {
   "cell_type": "code",
   "execution_count": 12,
   "id": "2efd3ac1-9a33-44b1-af27-2fddca86bf81",
   "metadata": {
    "tags": []
   },
   "outputs": [],
   "source": [
    "x_train_age = x_train.iloc[:, 0].values.reshape(- 1 , 1 )\n",
    "\n",
    "x_test_age = x_test.iloc[:,0].values.reshape(-1 , 1 )"
   ]
  },
  {
   "cell_type": "code",
   "execution_count": 13,
   "id": "1cfaa31b-8507-46d0-b699-b6b01b9f0862",
   "metadata": {
    "tags": []
   },
   "outputs": [
    {
     "data": {
      "text/plain": [
       "(80, 1)"
      ]
     },
     "execution_count": 13,
     "metadata": {},
     "output_type": "execute_result"
    }
   ],
   "source": [
    "x_train_age.shape"
   ]
  },
  {
   "cell_type": "code",
   "execution_count": 14,
   "id": "843d9f3c-8564-4290-90dc-a90bc3cb5d03",
   "metadata": {
    "tags": []
   },
   "outputs": [
    {
     "data": {
      "text/plain": [
       "array([[17],\n",
       "       [15],\n",
       "       [71],\n",
       "       [13],\n",
       "       [69],\n",
       "       [80],\n",
       "       [42],\n",
       "       [33],\n",
       "       [16],\n",
       "       [64],\n",
       "       [10],\n",
       "       [82],\n",
       "       [80],\n",
       "       [51],\n",
       "       [60],\n",
       "       [73],\n",
       "       [31],\n",
       "       [34],\n",
       "       [81],\n",
       "       [48]], dtype=int64)"
      ]
     },
     "execution_count": 14,
     "metadata": {},
     "output_type": "execute_result"
    }
   ],
   "source": [
    "x_test_age"
   ]
  },
  {
   "cell_type": "markdown",
   "id": "51c975d9-fa52-4b69-8604-afcb98945fd2",
   "metadata": {},
   "source": [
    "## concatinating "
   ]
  },
  {
   "cell_type": "code",
   "execution_count": 21,
   "id": "3360335b-199c-496a-8d29-a986eb310866",
   "metadata": {
    "tags": []
   },
   "outputs": [
    {
     "data": {
      "text/plain": [
       "(80, 7)"
      ]
     },
     "execution_count": 21,
     "metadata": {},
     "output_type": "execute_result"
    }
   ],
   "source": [
    "x_train_transformed =np.concatenate((x_train_age,x_train_fever,x_train_gender_city,x_train_cough),axis=1)\n",
    "# also the test data\n",
    "x_test_transform = np.concatenate((x_test_age  , x_test_fever , x_test_gender_city , x_test_cough) , axis = 1 )\n",
    "x_train_transformed.shape"
   ]
  },
  {
   "cell_type": "code",
   "execution_count": 22,
   "id": "a0b9a623-de0d-4b17-8873-dc4e76a05b13",
   "metadata": {
    "tags": []
   },
   "outputs": [
    {
     "data": {
      "text/plain": [
       "(80, 1)"
      ]
     },
     "execution_count": 22,
     "metadata": {},
     "output_type": "execute_result"
    }
   ],
   "source": [
    "x_train_age.shape"
   ]
  },
  {
   "cell_type": "code",
   "execution_count": 23,
   "id": "a79834c0-490f-4c47-924f-2e22838ce3f5",
   "metadata": {
    "tags": []
   },
   "outputs": [
    {
     "data": {
      "text/plain": [
       "(80, 1)"
      ]
     },
     "execution_count": 23,
     "metadata": {},
     "output_type": "execute_result"
    }
   ],
   "source": [
    "x_train_fever.shape"
   ]
  },
  {
   "cell_type": "code",
   "execution_count": 18,
   "id": "9fdd1fec-78a8-4dac-a154-bc66ab75111f",
   "metadata": {
    "tags": []
   },
   "outputs": [
    {
     "data": {
      "text/plain": [
       "(20, 4)"
      ]
     },
     "execution_count": 18,
     "metadata": {},
     "output_type": "execute_result"
    }
   ],
   "source": [
    "x_test_gender_city.shape"
   ]
  },
  {
   "cell_type": "code",
   "execution_count": null,
   "id": "0db9348a-f448-4c3c-b198-27de1f17d039",
   "metadata": {
    "tags": []
   },
   "outputs": [],
   "source": []
  },
  {
   "cell_type": "code",
   "execution_count": 19,
   "id": "ec2488b4-841c-4467-b98b-ff1c591582d6",
   "metadata": {
    "tags": []
   },
   "outputs": [
    {
     "data": {
      "text/plain": [
       "array([[82],\n",
       "       [65],\n",
       "       [69],\n",
       "       [20],\n",
       "       [34],\n",
       "       [84],\n",
       "       [23],\n",
       "       [ 8],\n",
       "       [34],\n",
       "       [56],\n",
       "       [69],\n",
       "       [27],\n",
       "       [64],\n",
       "       [66],\n",
       "       [38],\n",
       "       [11],\n",
       "       [14],\n",
       "       [46],\n",
       "       [38],\n",
       "       [75],\n",
       "       [25],\n",
       "       [83],\n",
       "       [47],\n",
       "       [60],\n",
       "       [12],\n",
       "       [34],\n",
       "       [42],\n",
       "       [19],\n",
       "       [24],\n",
       "       [81],\n",
       "       [64],\n",
       "       [51],\n",
       "       [40],\n",
       "       [ 6],\n",
       "       [49],\n",
       "       [82],\n",
       "       [42],\n",
       "       [72],\n",
       "       [20],\n",
       "       [19],\n",
       "       [75],\n",
       "       [79],\n",
       "       [59],\n",
       "       [ 5],\n",
       "       [25],\n",
       "       [14],\n",
       "       [19],\n",
       "       [47],\n",
       "       [51],\n",
       "       [ 5],\n",
       "       [68],\n",
       "       [19],\n",
       "       [54],\n",
       "       [73],\n",
       "       [65],\n",
       "       [23],\n",
       "       [26],\n",
       "       [49],\n",
       "       [11],\n",
       "       [27],\n",
       "       [65],\n",
       "       [65],\n",
       "       [50],\n",
       "       [55],\n",
       "       [12],\n",
       "       [83],\n",
       "       [10],\n",
       "       [18],\n",
       "       [16],\n",
       "       [27],\n",
       "       [44],\n",
       "       [74],\n",
       "       [20],\n",
       "       [ 5],\n",
       "       [24],\n",
       "       [22],\n",
       "       [71],\n",
       "       [83],\n",
       "       [70],\n",
       "       [49]], dtype=int64)"
      ]
     },
     "execution_count": 19,
     "metadata": {},
     "output_type": "execute_result"
    }
   ],
   "source": [
    "x_train_age"
   ]
  },
  {
   "cell_type": "code",
   "execution_count": null,
   "id": "fff64327-e446-4df5-b085-9608c6a58c57",
   "metadata": {},
   "outputs": [],
   "source": []
  },
  {
   "cell_type": "code",
   "execution_count": 20,
   "id": "03fdca2f-31f7-44aa-b199-47370d3e9ad4",
   "metadata": {},
   "outputs": [
    {
     "data": {
      "text/plain": [
       "(20, 4)"
      ]
     },
     "execution_count": 20,
     "metadata": {},
     "output_type": "execute_result"
    }
   ],
   "source": [
    "x_test_gender_city.shape"
   ]
  },
  {
   "cell_type": "markdown",
   "id": "9e49de8b",
   "metadata": {},
   "source": [
    "## Using Columns Transfomer"
   ]
  },
  {
   "cell_type": "code",
   "execution_count": 24,
   "id": "729e67ed-0518-4112-ae83-8755062830f6",
   "metadata": {},
   "outputs": [],
   "source": [
    "from sklearn.compose import ColumnTransformer"
   ]
  },
  {
   "cell_type": "code",
   "execution_count": null,
   "id": "caaaeb79-3da2-4191-b062-5dd7c442e6c8",
   "metadata": {},
   "outputs": [],
   "source": []
  },
  {
   "cell_type": "code",
   "execution_count": null,
   "id": "cec7cefc",
   "metadata": {},
   "outputs": [],
   "source": []
  },
  {
   "cell_type": "code",
   "execution_count": null,
   "id": "d37d58e4",
   "metadata": {},
   "outputs": [],
   "source": [
    "transformer = ColumnTransformer(transformers=[\n",
    "    ('tnf1',SimpleImputer(),['fever']),\n",
    "    ('tnf2',OrdinalEncoder(categories=[['Mild','Strong']]),['cough']),\n",
    "    ('tnf3',OneHotEncoder(sparse=False,drop='first'),['gender','city'])\n",
    "],remainder='passthrough')"
   ]
  }
 ],
 "metadata": {
  "kernelspec": {
   "display_name": "Python 3 (ipykernel)",
   "language": "python",
   "name": "python3"
  },
  "language_info": {
   "codemirror_mode": {
    "name": "ipython",
    "version": 3
   },
   "file_extension": ".py",
   "mimetype": "text/x-python",
   "name": "python",
   "nbconvert_exporter": "python",
   "pygments_lexer": "ipython3",
   "version": "3.9.13"
  }
 },
 "nbformat": 4,
 "nbformat_minor": 5
}
