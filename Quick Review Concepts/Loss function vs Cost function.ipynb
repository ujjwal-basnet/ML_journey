{
 "cells": [
  {
   "attachments": {},
   "cell_type": "markdown",
   "metadata": {},
   "source": [
    "\n",
    "<p style=\"font-family: Cascadia Code, sans-serif;\">\n",
    "Two key functions used in many machine learning algorithms are the loss function and cost function. \n",
    "<p style=\"font-family: Cascadia Code, sans-serif;\">\n",
    "While these terms are sometimes used interchangeably, they have distinct meanings and serve different\n",
    "purposes.Usally , \n",
    "<p style=\"font-family: Cascadia Code, sans-serif;\">\n",
    "In This is a <mark style=\"background-color: lightgreen;\">the loss function measures how \n",
    "well the model is performing on a single training example    while the cost function measures the model's overall performance on the entire training\n",
    "</p>\n"
   ]
  },
  {
   "cell_type": "code",
   "execution_count": null,
   "metadata": {},
   "outputs": [],
   "source": []
  },
  {
   "cell_type": "code",
   "execution_count": null,
   "metadata": {},
   "outputs": [],
   "source": []
  },
  {
   "cell_type": "code",
   "execution_count": null,
   "metadata": {},
   "outputs": [],
   "source": []
  }
 ],
 "metadata": {
  "kernelspec": {
   "display_name": "Python 3",
   "language": "python",
   "name": "python3"
  },
  "language_info": {
   "codemirror_mode": {
    "name": "ipython",
    "version": 3
   },
   "file_extension": ".py",
   "mimetype": "text/x-python",
   "name": "python",
   "nbconvert_exporter": "python",
   "pygments_lexer": "ipython3",
   "version": "3.11.1"
  },
  "orig_nbformat": 4
 },
 "nbformat": 4,
 "nbformat_minor": 2
}
