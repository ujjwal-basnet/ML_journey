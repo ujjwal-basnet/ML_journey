{
 "cells": [
  {
   "cell_type": "markdown",
   "id": "7efc3594",
   "metadata": {},
   "source": [
    "import pandas as pd \n",
    "import numpy as np\n",
    "\n"
   ]
  },
  {
   "cell_type": "markdown",
   "id": "2b6c4017",
   "metadata": {},
   "source": [
    "## Load DataBase"
   ]
  },
  {
   "cell_type": "code",
   "execution_count": 1,
   "id": "d57e6457",
   "metadata": {},
   "outputs": [],
   "source": [
    "from sklearn.datasets import load_diabetes"
   ]
  },
  {
   "cell_type": "code",
   "execution_count": 2,
   "id": "e95788d3",
   "metadata": {},
   "outputs": [
    {
     "data": {
      "text/plain": [
       "((442, 10), (442,))"
      ]
     },
     "execution_count": 2,
     "metadata": {},
     "output_type": "execute_result"
    }
   ],
   "source": [
    "x , y = load_diabetes(return_X_y=True)\n",
    "x.shape , y.shape"
   ]
  },
  {
   "cell_type": "markdown",
   "id": "bed973e6",
   "metadata": {},
   "source": [
    "### Train test split\n"
   ]
  },
  {
   "cell_type": "code",
   "execution_count": 3,
   "id": "ff8c0a8a",
   "metadata": {},
   "outputs": [
    {
     "data": {
      "text/plain": [
       "((353, 10), (89, 10))"
      ]
     },
     "execution_count": 3,
     "metadata": {},
     "output_type": "execute_result"
    }
   ],
   "source": [
    "from sklearn.model_selection import train_test_split\n",
    "xtrain ,  xtest ,  ytrain , ytest  =  train_test_split(x , y , test_size = 0.2 , random_state = 9 ) \n",
    "xtrain.shape , xtest.shape"
   ]
  },
  {
   "cell_type": "markdown",
   "id": "e1b8c941",
   "metadata": {},
   "source": [
    "# Applying sklearn SGD Regressior Class "
   ]
  },
  {
   "cell_type": "code",
   "execution_count": 4,
   "id": "2e7839a2",
   "metadata": {},
   "outputs": [
    {
     "name": "stderr",
     "output_type": "stream",
     "text": [
      "D:\\software\\python\\Lib\\site-packages\\sklearn\\linear_model\\_stochastic_gradient.py:1548: ConvergenceWarning: Maximum number of iteration reached before convergence. Consider increasing max_iter to improve the fit.\n",
      "  warnings.warn(\n"
     ]
    },
    {
     "data": {
      "text/plain": [
       "(array([157.1370177]),\n",
       " '',\n",
       " 'below is slopes (coeff) ',\n",
       " '',\n",
       " array([  35.2220795 ,  -89.17414243,  311.33837094,  222.11101231,\n",
       "          22.56298422,  -11.19016491, -183.55249704,  149.4358116 ,\n",
       "         300.93898516,  142.94508304]))"
      ]
     },
     "execution_count": 4,
     "metadata": {},
     "output_type": "execute_result"
    }
   ],
   "source": [
    "from sklearn.linear_model import SGDRegressor\n",
    "s_reg = SGDRegressor(max_iter =95 , learning_rate = 'constant'  , eta0 = 0.01)\n",
    "s_reg.fit(xtrain , ytrain)\n",
    "s_reg.intercept_ ,\"\" ,\"below is slopes (coeff) \" ,\"\"  ,    s_reg.coef_\n"
   ]
  },
  {
   "cell_type": "markdown",
   "id": "82ad20bf",
   "metadata": {},
   "source": [
    "## Calculating r2 score"
   ]
  },
  {
   "cell_type": "code",
   "execution_count": 5,
   "id": "71ef4b9a",
   "metadata": {},
   "outputs": [
    {
     "data": {
      "text/plain": [
       "0.5303402913002124"
      ]
     },
     "execution_count": 5,
     "metadata": {},
     "output_type": "execute_result"
    }
   ],
   "source": [
    "ypred = s_reg.predict(xtest) \n",
    "from sklearn.metrics import r2_score\n",
    "r2_score(ytest , ypred)"
   ]
  },
  {
   "cell_type": "markdown",
   "id": "75e77a2e",
   "metadata": {},
   "source": [
    "## Observating data distrubution "
   ]
  },
  {
   "cell_type": "code",
   "execution_count": 6,
   "id": "ef644e6d",
   "metadata": {},
   "outputs": [],
   "source": [
    "from matplotlib import pyplot as plt\n",
    "# after exam "
   ]
  },
  {
   "cell_type": "markdown",
   "id": "eb6b2b45",
   "metadata": {},
   "source": [
    "## Now Making MY Own Class"
   ]
  },
  {
   "cell_type": "code",
   "execution_count": 9,
   "id": "aeec6c10",
   "metadata": {},
   "outputs": [
    {
     "data": {
      "text/plain": [
       "True"
      ]
     },
     "execution_count": 9,
     "metadata": {},
     "output_type": "execute_result"
    }
   ],
   "source": [
    "atrain , atest  , btrain , btest  = xtrain  , xtest  , ytrain , ytest \n",
    "#check \n",
    "(atrain , atest  , btrain , btest)  == (xtrain  , xtest  , ytrain , ytest )\n",
    "#all clear"
   ]
  },
  {
   "cell_type": "code",
   "execution_count": 14,
   "id": "a0d7ec1e",
   "metadata": {},
   "outputs": [],
   "source": [
    "import pandas as pd \n",
    "import numpy as np "
   ]
  },
  {
   "cell_type": "code",
   "execution_count": null,
   "id": "9fa114e8",
   "metadata": {},
   "outputs": [],
   "source": []
  },
  {
   "cell_type": "code",
   "execution_count": 57,
   "id": "180ff1a1",
   "metadata": {},
   "outputs": [],
   "source": [
    "class MySGD:\n",
    "    def __init__(self , learning_rate  = 0.01 , epochs = 100 ) : \n",
    "        self.learning_rate = learning_rate \n",
    "        self.epochs = epochs\n",
    "        self.intercept= None \n",
    "        self.coef = None\n",
    "        \n",
    "    def fit(self , atrain , btrain ):\n",
    "        #initilazing coeff and intercept\n",
    "        self.intercept =  0 \n",
    "        self.coef = np.ones(atrain.shape[1])\n",
    "        \n",
    "        for i in range(self.epochs) :\n",
    "            for j in range(atrain.shape[0]):\n",
    "                           random_index = np.random.randint(0 ,atrain.shape[0])\n",
    "                           \n",
    "                           b_hat = np.dot(atrain[random_index] , self.coef) + self.intercept\n",
    "                           \n",
    "                           intercept_ko_slope = -2 * (btrain[random_index] - b_hat)\n",
    "                           self.intercept = self.intercept - (self.learning_rate * intercept_ko_slope)\n",
    "                           \n",
    "                         \n",
    "                           coef_ko_slope = -2 * np.dot((btrain[random_index] - b_hat) , atrain[random_index])\n",
    "                           self.coef = self.coef - (self.learning_rate * coef_ko_slope )\n",
    "   \n",
    "    def predict(self , atest):\n",
    "        return np.dot(atest , self.coef) + self.intercept\n",
    "        \n",
    "                    \n",
    "                            \n",
    "                            \n",
    "                           \n",
    "                        \n",
    "                           \n",
    "            \n",
    "        \n",
    "        \n"
   ]
  },
  {
   "cell_type": "code",
   "execution_count": 58,
   "id": "237d5fbe",
   "metadata": {},
   "outputs": [
    {
     "data": {
      "text/plain": [
       "0.5858292838879173"
      ]
     },
     "execution_count": 58,
     "metadata": {},
     "output_type": "execute_result"
    }
   ],
   "source": [
    "x = MySGD()\n",
    "x.fit(atrain ,btrain)\n",
    "ypred1 = x.predict(atest)\n",
    "r2_score(btest , ypred1)"
   ]
  },
  {
   "cell_type": "code",
   "execution_count": null,
   "id": "a6f47730",
   "metadata": {},
   "outputs": [],
   "source": []
  },
  {
   "cell_type": "code",
   "execution_count": null,
   "id": "f308137f",
   "metadata": {},
   "outputs": [],
   "source": []
  },
  {
   "cell_type": "code",
   "execution_count": null,
   "id": "f5003a6e",
   "metadata": {},
   "outputs": [],
   "source": []
  },
  {
   "cell_type": "code",
   "execution_count": null,
   "id": "678912a5",
   "metadata": {},
   "outputs": [],
   "source": []
  },
  {
   "cell_type": "code",
   "execution_count": null,
   "id": "74bce26a",
   "metadata": {},
   "outputs": [],
   "source": []
  },
  {
   "cell_type": "code",
   "execution_count": null,
   "id": "80b96612",
   "metadata": {},
   "outputs": [],
   "source": []
  },
  {
   "cell_type": "code",
   "execution_count": null,
   "id": "ddf0c33a",
   "metadata": {},
   "outputs": [],
   "source": []
  }
 ],
 "metadata": {
  "kernelspec": {
   "display_name": "Python 3 (ipykernel)",
   "language": "python",
   "name": "python3"
  },
  "language_info": {
   "codemirror_mode": {
    "name": "ipython",
    "version": 3
   },
   "file_extension": ".py",
   "mimetype": "text/x-python",
   "name": "python",
   "nbconvert_exporter": "python",
   "pygments_lexer": "ipython3",
   "version": "3.11.1"
  }
 },
 "nbformat": 4,
 "nbformat_minor": 5
}
