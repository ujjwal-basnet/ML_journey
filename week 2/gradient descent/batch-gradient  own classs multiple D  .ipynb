{
 "cells": [
  {
   "cell_type": "code",
   "execution_count": 1,
   "id": "5ac38b4b-dc0f-4471-8167-a2e1de101abb",
   "metadata": {
    "tags": []
   },
   "outputs": [],
   "source": [
    "import numpy as np\n",
    "from sklearn.linear_model import LinearRegression\n",
    "from sklearn.metrics import r2_score\n",
    "from sklearn.model_selection import train_test_split"
   ]
  },
  {
   "cell_type": "markdown",
   "id": "620db9d0-cbb4-4d7d-838d-bc30fc6e7a78",
   "metadata": {},
   "source": [
    "## Importing  data sets"
   ]
  },
  {
   "cell_type": "code",
   "execution_count": 2,
   "id": "8a2a51cb-8026-4f4f-9ac9-d3d1c7d6af57",
   "metadata": {
    "tags": []
   },
   "outputs": [],
   "source": [
    "from sklearn.datasets import load_diabetes \n",
    "x , y = load_diabetes(return_X_y=True)"
   ]
  },
  {
   "cell_type": "code",
   "execution_count": 3,
   "id": "e214648d-7bd4-46b6-a952-85b5cecb8fe9",
   "metadata": {
    "tags": []
   },
   "outputs": [
    {
     "data": {
      "text/plain": [
       "((442, 10), (442,))"
      ]
     },
     "execution_count": 3,
     "metadata": {},
     "output_type": "execute_result"
    }
   ],
   "source": [
    "x.shape  , y.shape"
   ]
  },
  {
   "cell_type": "markdown",
   "id": "7e12f63c-40d5-4616-9cfa-f5c5b1950b90",
   "metadata": {
    "tags": []
   },
   "source": [
    "### Train Test Split "
   ]
  },
  {
   "cell_type": "code",
   "execution_count": 4,
   "id": "0d1e559a-5983-4f67-a8d3-6af309a7341a",
   "metadata": {
    "tags": []
   },
   "outputs": [],
   "source": [
    "xtrain , xtest , ytrain ,ytest  = train_test_split(x , y ,test_size =  0.2 , random_state = 2 ) "
   ]
  },
  {
   "cell_type": "markdown",
   "id": "92c8e914-c0d7-4573-9514-1615f4270c26",
   "metadata": {
    "tags": []
   },
   "source": [
    "## from sklearn class "
   ]
  },
  {
   "cell_type": "code",
   "execution_count": 5,
   "id": "d31e2fb8-39e1-48a0-b651-f880f2266fe4",
   "metadata": {
    "tags": []
   },
   "outputs": [
    {
     "data": {
      "text/plain": [
       "('b ko val ',\n",
       " 151.88331005254167,\n",
       " ' ',\n",
       " 'slope ko values haru ',\n",
       " array([  -9.15865318, -205.45432163,  516.69374454,  340.61999905,\n",
       "        -895.5520019 ,  561.22067904,  153.89310954,  126.73139688,\n",
       "         861.12700152,   52.42112238]))"
      ]
     },
     "execution_count": 5,
     "metadata": {},
     "output_type": "execute_result"
    }
   ],
   "source": [
    "lr = LinearRegression() \n",
    "lr.fit(xtrain , ytrain) \n",
    "\"b ko val \" , lr.intercept_ , \" \" , \"slope ko values haru \" ,  lr.coef_"
   ]
  },
  {
   "cell_type": "code",
   "execution_count": 6,
   "id": "6dac2f1d-87f6-4293-903d-0d825b077083",
   "metadata": {
    "tags": []
   },
   "outputs": [
    {
     "data": {
      "text/plain": [
       "array([154.1213881 , 204.81835118, 124.93755353, 106.08950893,\n",
       "       258.5348576 , 256.3310074 , 118.75087616, 119.52440696,\n",
       "       101.50816735, 190.54048661, 141.70656811, 172.51883961,\n",
       "       174.33861649, 134.80942706, 294.13994537,  94.11798038,\n",
       "       211.97059795, 156.49579378, 134.21000428, 119.62664644,\n",
       "       148.87842251, 165.00873409, 151.10021038, 176.04063756,\n",
       "       133.27769647, 221.29555392, 197.17324941,  96.1577688 ,\n",
       "        50.26012711, 230.48580317, 242.06073866, 114.11129218,\n",
       "        67.07532417,  94.52943825, 201.21415375, 167.05136201,\n",
       "       159.881268  , 192.78746659, 114.49551325, 233.48234551,\n",
       "       140.82563045, 121.0680409 , 192.27480772, 191.12738845,\n",
       "       179.16865788, 148.34935601, 163.47414622, 276.81647884,\n",
       "       100.17926432, 164.10555298, 255.80762189, 136.9466204 ,\n",
       "       152.37503699, 107.92237882, 194.21924678,  77.34670792,\n",
       "       118.50482479,  68.38335763, 154.29258529, 162.48840259,\n",
       "       168.36788326, 156.87790322,  97.14191797, 238.1671215 ,\n",
       "       145.46179904, 117.65702433, 168.88784311, 198.38683887,\n",
       "       118.24053714, 124.64552812, 223.17700368, 200.63012386,\n",
       "       129.54414666, 158.1584765 , 154.332565  , 114.47070769,\n",
       "        70.44906407,  76.3973879 , 172.41584591,  80.56270077,\n",
       "        80.2722834 ,  89.46150248, 186.21572052, 275.46275403,\n",
       "       208.26784222, 143.79451509, 291.28766846, 206.32474844,\n",
       "        94.22935404])"
      ]
     },
     "execution_count": 6,
     "metadata": {},
     "output_type": "execute_result"
    }
   ],
   "source": [
    "lr.predict(xtest) "
   ]
  },
  {
   "cell_type": "markdown",
   "id": "dfd05548-8fb3-4559-af20-132f06b595ea",
   "metadata": {},
   "source": [
    "#### notice : That Mine prvious own gdregressor class cannot halden multidimentional features so lets make another class  which can handel multidimentional features and predict\n"
   ]
  },
  {
   "cell_type": "code",
   "execution_count": 7,
   "id": "d2de39f1-ec08-483a-bcec-147c16464415",
   "metadata": {
    "tags": []
   },
   "outputs": [],
   "source": [
    "class GDRegressor : \n",
    "    def __init__ (self , learning_rate = 0.01 , epochs = 98  ):\n",
    "        self.learning_r = learning_rate \n",
    "        self.epochs = epochs \n",
    "        self.m = None \n",
    "        self.b = None \n",
    "        \n",
    "    def fit(self , xtrain ,ytrain) :  \n",
    "        # basically prediction nikalna keke  cahinxa tai value of val tapaune ho yeha\n",
    "        # for eg  y = mx + b so m , ra b ko value tapaune yeta ani predict garne \n",
    "        # m ra b ko minima dine value hai \n",
    "        \n",
    "        # set  first coeff = 0 \n",
    "        self.b = 0 \n",
    "        self.m = np.ones(xtrain.shape[1])\n",
    "        \n",
    "        #pahela jastai b = b - self.lr * slope_m  yestai parale \n",
    "        #update all intercept and coeff \n",
    "          \n",
    "            #we know b = b - lr*slope_b  for 1 'd' for multi \n",
    "            #and slope_of _ b here is a derivation of loss function with respect to b so same likke then \n",
    "       \n",
    "    \n",
    "    # self.b = self.b - b_ko_slope we dont know value for bko derivation so \n",
    "    #b_ko_slope = lossfunction ko derivation with respect to b \n",
    "    #b ko slope =  -2 * np.mean(ytrain - yhat) \n",
    "\n",
    "    #fer yhat?? \n",
    "    \n",
    "    #yhat   = mx  + c \n",
    "              # xtrain , ra m matrix ma xa so dot product  \n",
    "        \n",
    "#okey start /////////////////////////////////////////////////////////////////////////\n",
    "\n",
    "        for i in range(self.epochs):\n",
    "            yhat = np.dot(xtrain , self.m ) + self.b \n",
    "            b_ko_slope = -2*np.mean(ytrain - yhat )\n",
    "            self.b = self.b  - (self.learning_r * b_ko_slope ) \n",
    "              ## b ko value update bayo aabo m ko value update garnu paro\n",
    "        \n",
    "            m_ko_slope = -2 * np.dot((ytrain - yhat )  , xtrain ) /( xtrain.shape[0])\n",
    "            self.m  = self.m - (self.learning_r * m_ko_slope ) \n",
    "    \n",
    "            \n",
    "    \n",
    "        \n",
    "        \n",
    "    def predict(self , xtest ) : #tai mx+ b but multidimentional bako bara \n",
    "        return np.dot(xtest , self.m ) + self.b \n",
    "        "
   ]
  },
  {
   "cell_type": "code",
   "execution_count": 8,
   "id": "16ad9015-14b8-4e9f-960d-dbf1df2c8a0d",
   "metadata": {
    "tags": []
   },
   "outputs": [
    {
     "data": {
      "text/plain": [
       "array([1., 1., 1., 1., 1., 1., 1., 1., 1., 1.])"
      ]
     },
     "execution_count": 8,
     "metadata": {},
     "output_type": "execute_result"
    }
   ],
   "source": [
    "np.ones(xtrain.shape[1])"
   ]
  },
  {
   "cell_type": "code",
   "execution_count": 12,
   "id": "b595b219-dc1d-4694-bafa-25b502fcd72e",
   "metadata": {
    "tags": []
   },
   "outputs": [],
   "source": [
    "rg = GDRegressor(0.1, 100000)\n",
    "rg.fit(xtrain , ytrain)"
   ]
  },
  {
   "cell_type": "code",
   "execution_count": 13,
   "id": "5d79c6c0-4ac2-4d55-a336-c2a8f93f30c3",
   "metadata": {
    "tags": []
   },
   "outputs": [],
   "source": [
    "ypred1 = rg.predict(xtest)"
   ]
  },
  {
   "cell_type": "code",
   "execution_count": 14,
   "id": "32d600b1-5686-4a5e-8b45-550386728460",
   "metadata": {
    "tags": []
   },
   "outputs": [
    {
     "data": {
      "text/plain": [
       "0.44250952691934"
      ]
     },
     "execution_count": 14,
     "metadata": {},
     "output_type": "execute_result"
    }
   ],
   "source": [
    "r2_score(ytest , ypred1) "
   ]
  },
  {
   "cell_type": "code",
   "execution_count": null,
   "id": "3727dbb7-4ab2-4f3e-a793-db61268ecaad",
   "metadata": {},
   "outputs": [],
   "source": [
    "#fine thanks \n",
    "# - i will be adding figures after mine exam !!!!!!"
   ]
  },
  {
   "cell_type": "code",
   "execution_count": null,
   "id": "c55938d9-9c21-4171-880e-cf5983795436",
   "metadata": {},
   "outputs": [],
   "source": []
  },
  {
   "cell_type": "code",
   "execution_count": null,
   "id": "3e162b42-365f-4956-9d0a-c58ab0307f96",
   "metadata": {},
   "outputs": [],
   "source": []
  },
  {
   "cell_type": "code",
   "execution_count": null,
   "id": "19e112c5-0c87-4713-86e5-bacb3b0ff33b",
   "metadata": {},
   "outputs": [],
   "source": []
  },
  {
   "cell_type": "code",
   "execution_count": null,
   "id": "cd5d7380-cef9-4f1e-bd09-0596c4f2a1cb",
   "metadata": {},
   "outputs": [],
   "source": []
  },
  {
   "cell_type": "code",
   "execution_count": null,
   "id": "71762123-b80e-4847-833c-8417dc7aeaa2",
   "metadata": {},
   "outputs": [],
   "source": []
  },
  {
   "cell_type": "code",
   "execution_count": null,
   "id": "417e97ad-37cb-4cad-81ea-f7c89d699ef2",
   "metadata": {},
   "outputs": [],
   "source": []
  },
  {
   "cell_type": "code",
   "execution_count": null,
   "id": "e870f730-6dc9-402e-8e3e-c44edd697a0a",
   "metadata": {},
   "outputs": [],
   "source": []
  },
  {
   "cell_type": "code",
   "execution_count": null,
   "id": "cdfd7cb3-c92f-44a2-bbd7-00bc11de689f",
   "metadata": {},
   "outputs": [],
   "source": []
  },
  {
   "cell_type": "code",
   "execution_count": null,
   "id": "d4e9e9f5-2119-4af6-9caf-c7a1ca3a8394",
   "metadata": {},
   "outputs": [],
   "source": []
  }
 ],
 "metadata": {
  "kernelspec": {
   "display_name": "Python 3 (ipykernel)",
   "language": "python",
   "name": "python3"
  },
  "language_info": {
   "codemirror_mode": {
    "name": "ipython",
    "version": 3
   },
   "file_extension": ".py",
   "mimetype": "text/x-python",
   "name": "python",
   "nbconvert_exporter": "python",
   "pygments_lexer": "ipython3",
   "version": "3.11.1"
  }
 },
 "nbformat": 4,
 "nbformat_minor": 5
}
