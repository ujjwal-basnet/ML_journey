{
 "cells": [
  {
   "cell_type": "markdown",
   "id": "352ab544-ad03-4aa6-b9bf-a0107d155bd9",
   "metadata": {},
   "source": [
    "<h3> KNN (k - nearest neighbors ) </h3>"
   ]
  },
  {
   "cell_type": "markdown",
   "id": "2a0c5ea9-5153-4cd4-85c6-aa8703a04ca7",
   "metadata": {
    "tags": []
   },
   "source": [
    "<h4>FORMULA TO CALCULATE:</h4>\n",
    "<h3 style=\"color: blue\">distance(x, y) = sqrt(sum(wi * (xi - yi)^2))</h3>\n",
    "<p>where:</p>\n",
    "<ul>\n",
    "  <li>x and y are the two data points being compared</li>\n",
    "  <li>xi and yi are the values of the ith feature (dimension) of x and y, respectively</li>\n",
    "  <li>wi is the weight assigned to the ith feature</li>\n",
    "  <li>sqrt() is the square root function</li>\n",
    "</ul>\n"
   ]
  },
  {
   "cell_type": "markdown",
   "id": "bfbbb102-ff5e-46e3-8a08-1031bdc38bb4",
   "metadata": {
    "tags": []
   },
   "source": [
    "<h3>Disadvantages:</h3>\n",
    "<p><em>In production:</em></p>\n",
    "<p>We need to deploy all training sets on the server so that our model can calculate nearest distances between rows and fill in missing values, which can be costly.</p>\n"
   ]
  },
  {
   "cell_type": "code",
   "execution_count": null,
   "id": "836e7023-d490-4829-9843-e4e4e5ea2ed0",
   "metadata": {},
   "outputs": [],
   "source": []
  },
  {
   "cell_type": "code",
   "execution_count": 1,
   "id": "d05214f2",
   "metadata": {
    "tags": []
   },
   "outputs": [],
   "source": [
    "import numpy as np \n",
    "import pandas as pd \n",
    "from sklearn.model_selection import train_test_split \n",
    "from sklearn.impute import KNNImputer \n",
    "from sklearn.impute import SimpleImputer  \n",
    "from sklearn.linear_model import LogisticRegression\n",
    "from sklearn.metrics import accuracy_score"
   ]
  },
  {
   "cell_type": "code",
   "execution_count": 2,
   "id": "d510e488",
   "metadata": {
    "tags": []
   },
   "outputs": [],
   "source": [
    "df = pd.read_csv(\"train.csv\")"
   ]
  },
  {
   "cell_type": "code",
   "execution_count": 3,
   "id": "9ec9994a-c862-40e4-92f7-79b1419c1c07",
   "metadata": {
    "tags": []
   },
   "outputs": [],
   "source": [
    "#extracting only required columns \n",
    "df = df[['Age' , 'Pclass' , 'Fare' , 'Survived']] "
   ]
  },
  {
   "cell_type": "code",
   "execution_count": 14,
   "id": "b97aae8e-2398-4c84-a6d2-9407bb6d2345",
   "metadata": {
    "tags": []
   },
   "outputs": [
    {
     "data": {
      "text/html": [
       "<div>\n",
       "<style scoped>\n",
       "    .dataframe tbody tr th:only-of-type {\n",
       "        vertical-align: middle;\n",
       "    }\n",
       "\n",
       "    .dataframe tbody tr th {\n",
       "        vertical-align: top;\n",
       "    }\n",
       "\n",
       "    .dataframe thead th {\n",
       "        text-align: right;\n",
       "    }\n",
       "</style>\n",
       "<table border=\"1\" class=\"dataframe\">\n",
       "  <thead>\n",
       "    <tr style=\"text-align: right;\">\n",
       "      <th></th>\n",
       "      <th>Age</th>\n",
       "      <th>Pclass</th>\n",
       "      <th>Fare</th>\n",
       "      <th>Survived</th>\n",
       "    </tr>\n",
       "  </thead>\n",
       "  <tbody>\n",
       "    <tr>\n",
       "      <th>80</th>\n",
       "      <td>22.0</td>\n",
       "      <td>3</td>\n",
       "      <td>9.0000</td>\n",
       "      <td>0</td>\n",
       "    </tr>\n",
       "    <tr>\n",
       "      <th>282</th>\n",
       "      <td>16.0</td>\n",
       "      <td>3</td>\n",
       "      <td>9.5000</td>\n",
       "      <td>0</td>\n",
       "    </tr>\n",
       "    <tr>\n",
       "      <th>856</th>\n",
       "      <td>45.0</td>\n",
       "      <td>1</td>\n",
       "      <td>164.8667</td>\n",
       "      <td>1</td>\n",
       "    </tr>\n",
       "    <tr>\n",
       "      <th>826</th>\n",
       "      <td>NaN</td>\n",
       "      <td>3</td>\n",
       "      <td>56.4958</td>\n",
       "      <td>0</td>\n",
       "    </tr>\n",
       "    <tr>\n",
       "      <th>761</th>\n",
       "      <td>41.0</td>\n",
       "      <td>3</td>\n",
       "      <td>7.1250</td>\n",
       "      <td>0</td>\n",
       "    </tr>\n",
       "  </tbody>\n",
       "</table>\n",
       "</div>"
      ],
      "text/plain": [
       "      Age  Pclass      Fare  Survived\n",
       "80   22.0       3    9.0000         0\n",
       "282  16.0       3    9.5000         0\n",
       "856  45.0       1  164.8667         1\n",
       "826   NaN       3   56.4958         0\n",
       "761  41.0       3    7.1250         0"
      ]
     },
     "execution_count": 14,
     "metadata": {},
     "output_type": "execute_result"
    }
   ],
   "source": [
    "df.sample(5)"
   ]
  },
  {
   "cell_type": "code",
   "execution_count": 15,
   "id": "2975f130-ea6b-48a6-896c-38f1180a12f0",
   "metadata": {
    "tags": []
   },
   "outputs": [
    {
     "data": {
      "text/plain": [
       "Age         19.86532\n",
       "Pclass       0.00000\n",
       "Fare         0.00000\n",
       "Survived     0.00000\n",
       "dtype: float64"
      ]
     },
     "execution_count": 15,
     "metadata": {},
     "output_type": "execute_result"
    }
   ],
   "source": [
    "#calculating percentages of null values \n",
    "df.isnull().mean()*100"
   ]
  },
  {
   "cell_type": "code",
   "execution_count": 16,
   "id": "103a8e03-ba3f-44cb-a385-3dace0477e59",
   "metadata": {
    "tags": []
   },
   "outputs": [],
   "source": [
    "\n",
    "#train test split \n",
    "x_train , x_test , y_train , y_test = train_test_split(df.drop(columns = \"Survived\" ) , df['Survived'] , test_size = 0.2 , random_state = 2)"
   ]
  },
  {
   "cell_type": "code",
   "execution_count": 17,
   "id": "f999193e-9884-4262-a9b5-f6edef7e6910",
   "metadata": {
    "tags": []
   },
   "outputs": [],
   "source": [
    "knn = KNNImputer(n_neighbors = 4 ) \n",
    "x_train_trf = knn.fit_transform(x_train) \n",
    "x_test_trf = knn.fit_transform(x_test) \n"
   ]
  },
  {
   "cell_type": "code",
   "execution_count": 18,
   "id": "24a9c4e5-eac4-4f91-9467-b229ca05bf47",
   "metadata": {
    "tags": []
   },
   "outputs": [
    {
     "data": {
      "text/plain": [
       "0.6983240223463687"
      ]
     },
     "execution_count": 18,
     "metadata": {},
     "output_type": "execute_result"
    }
   ],
   "source": [
    "lr = LogisticRegression() \n",
    "lr.fit(x_train_trf , y_train ) \n",
    "y_pred = lr.predict(x_test_trf) \n",
    "accuracy_score(y_test,y_pred)\n"
   ]
  },
  {
   "cell_type": "code",
   "execution_count": 19,
   "id": "d21b596d-87d3-4b45-aac3-00cba51c9287",
   "metadata": {
    "tags": []
   },
   "outputs": [
    {
     "data": {
      "text/plain": [
       "0.7150837988826816"
      ]
     },
     "execution_count": 19,
     "metadata": {},
     "output_type": "execute_result"
    }
   ],
   "source": [
    "knn = KNNImputer(n_neighbors=3,weights='distance')\n",
    "\n",
    "x_train_dis = knn.fit_transform(x_train)\n",
    "x_test_dis= knn.transform(x_test)\n",
    "\n",
    "#applying liner regression model\n",
    "lr_0 = LogisticRegression()\n",
    "lr_0.fit(x_train_dis ,  y_train) \n",
    "y_pred = lr_0.predict(x_test_dis)\n",
    "accuracy_score (y_test , y_pred)\n",
    "\n",
    "#note this is the higest no of accurecy that model got ever \n"
   ]
  },
  {
   "cell_type": "code",
   "execution_count": 20,
   "id": "1c83f200-db4d-40d5-8b5f-ed7347ad02a5",
   "metadata": {},
   "outputs": [],
   "source": [
    "#from simpleimpute\n",
    "from sklearn.impute import SimpleImputer\n",
    "#creating instances of simpleimputer class \n",
    "si = SimpleImputer(strategy = 'mean') \n",
    "si.fit(x_train)\n",
    "x_train_si_mean = si.transform(x_train)\n",
    "x_test_si_mean =si.transform(x_test) \n"
   ]
  },
  {
   "cell_type": "markdown",
   "id": "24095c41-e7a5-41a1-b31b-1d449f86e386",
   "metadata": {},
   "source": [
    "Trying to fill same values with simple imputer \n"
   ]
  },
  {
   "cell_type": "code",
   "execution_count": 21,
   "id": "06949fa9-8032-460f-8dc2-896c443ea5c6",
   "metadata": {},
   "outputs": [
    {
     "data": {
      "text/plain": [
       "0.6927374301675978"
      ]
     },
     "execution_count": 21,
     "metadata": {},
     "output_type": "execute_result"
    }
   ],
   "source": [
    "#creating another logisticregression class instance \n",
    "lr_1 = LogisticRegression()\n",
    "\n",
    "\n",
    "lr_1.fit(x_train_si_mean  , y_train) \n",
    "y_pred = lr_1.predict(x_test_si_mean ) \n",
    "accuracy_score (y_test , y_pred)"
   ]
  },
  {
   "cell_type": "markdown",
   "id": "75c20d9b-5333-4442-bbd3-1672083b6396",
   "metadata": {
    "tags": []
   },
   "source": [
    "<h2> Conc </h2>"
   ]
  },
  {
   "cell_type": "markdown",
   "id": "89381d52-a904-4c2f-9259-116ca733e905",
   "metadata": {},
   "source": [
    "<table>\n",
    "  <caption>Conclusion</caption>\n",
    "  <thead>\n",
    "    <tr>\n",
    "      <th>Parameter</th>\n",
    "      <th>KNN</th>\n",
    "      <th>SimpleImputer</th>\n",
    "    </tr>\n",
    "  </thead>\n",
    "  <tbody>\n",
    "    <tr>\n",
    "      <td>Weight</td>\n",
    "      <td>Uniform = 0.6983240223463687 </td>\n",
    "      <td>null</td>\n",
    "    </tr>\n",
    "    <tr>\n",
    "      <td></td>\n",
    "      <td></td>\n",
    "      <td>null</td>\n",
    "    </tr>\n",
    "    <tr>\n",
    "      <td>Weight</td>\n",
    "      <td>Distance = 0.7150837988826816 </td>\n",
    "      <td>null</td>\n",
    "    </tr>\n",
    "    <tr>\n",
    "      <td></td>\n",
    "      <td></td>\n",
    "      <td>null</td>\n",
    "    </tr>\n",
    "    <tr>\n",
    "      <td>Strategy</td>\n",
    "      <td>null</td>\n",
    "      <td>Mean = 0.6927374301675978 </td>\n",
    "    </tr>\n",
    "    <tr>\n",
    "      <td></td>\n",
    "      <td>null</td>\n",
    "      <td>   </td>\n",
    "    </tr>\n",
    "    <tr>\n",
    "      <td>Strategy</td>\n",
    "      <td>null</td>\n",
    "      <td>Most Frequent = 0.664804469273743</td>\n",
    "    </tr>\n",
    "    <tr>\n",
    "      <td></td>\n",
    "      <td>null</td>\n",
    "      <td>td>\n",
    "    </tr>\n",
    "  </tbody>\n",
    "</table>\n"
   ]
  },
  {
   "cell_type": "markdown",
   "id": "98072583-234e-4545-827f-689d878e2c56",
   "metadata": {},
   "source": [
    "#  from this we know so knn accuracy is better then simpleimputer  "
   ]
  },
  {
   "cell_type": "code",
   "execution_count": null,
   "id": "ffc76b81-7aaf-497e-a199-4e4bc897ecba",
   "metadata": {},
   "outputs": [],
   "source": []
  },
  {
   "cell_type": "code",
   "execution_count": null,
   "id": "e06b29d9-6983-4c0e-bcec-7ad1693e998d",
   "metadata": {},
   "outputs": [],
   "source": []
  },
  {
   "cell_type": "code",
   "execution_count": null,
   "id": "8b3f1b00-be61-4330-8f4d-efff5592b0b0",
   "metadata": {},
   "outputs": [],
   "source": []
  },
  {
   "cell_type": "code",
   "execution_count": null,
   "id": "242a09d3-1492-488c-a9e1-0e903f69363a",
   "metadata": {},
   "outputs": [],
   "source": []
  },
  {
   "cell_type": "code",
   "execution_count": null,
   "id": "9fc78093-0209-43c6-8cc8-d59600068c75",
   "metadata": {},
   "outputs": [],
   "source": []
  },
  {
   "cell_type": "code",
   "execution_count": null,
   "id": "264e658c-ec6b-4402-8a2f-ef11a5937a59",
   "metadata": {},
   "outputs": [],
   "source": []
  },
  {
   "cell_type": "code",
   "execution_count": null,
   "id": "469f3272-22c3-4cc0-8171-81517cb28f89",
   "metadata": {},
   "outputs": [],
   "source": []
  },
  {
   "cell_type": "code",
   "execution_count": null,
   "id": "23a00123-9d1a-445a-ada0-922ce47951df",
   "metadata": {},
   "outputs": [],
   "source": []
  },
  {
   "cell_type": "code",
   "execution_count": null,
   "id": "970d12fc-5b96-4baf-8350-330a8792a914",
   "metadata": {},
   "outputs": [],
   "source": []
  }
 ],
 "metadata": {
  "kernelspec": {
   "display_name": "Python 3 (ipykernel)",
   "language": "python",
   "name": "python3"
  },
  "language_info": {
   "codemirror_mode": {
    "name": "ipython",
    "version": 3
   },
   "file_extension": ".py",
   "mimetype": "text/x-python",
   "name": "python",
   "nbconvert_exporter": "python",
   "pygments_lexer": "ipython3",
   "version": "3.11.1"
  }
 },
 "nbformat": 4,
 "nbformat_minor": 5
}
